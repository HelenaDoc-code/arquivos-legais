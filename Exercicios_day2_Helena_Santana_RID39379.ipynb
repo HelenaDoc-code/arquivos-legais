{
  "nbformat": 4,
  "nbformat_minor": 0,
  "metadata": {
    "colab": {
      "provenance": [],
      "collapsed_sections": [],
      "authorship_tag": "ABX9TyMApV6Kc/JOna8+XWmv1i7x",
      "include_colab_link": true
    },
    "kernelspec": {
      "name": "python3",
      "display_name": "Python 3"
    },
    "language_info": {
      "name": "python"
    }
  },
  "cells": [
    {
      "cell_type": "markdown",
      "metadata": {
        "id": "view-in-github",
        "colab_type": "text"
      },
      "source": [
        "<a href=\"https://colab.research.google.com/github/HelenaDoc-code/arquivos-legais/blob/main/Exercicios_day2_Helena_Santana_RID39379.ipynb\" target=\"_parent\"><img src=\"https://colab.research.google.com/assets/colab-badge.svg\" alt=\"Open In Colab\"/></a>"
      ]
    },
    {
      "cell_type": "markdown",
      "source": [
        "Nome: Helena Barros Santana\n",
        "RID: 39379\n",
        "Exercícios"
      ],
      "metadata": {
        "id": "CGm_xl47yL1K"
      }
    },
    {
      "cell_type": "markdown",
      "source": [
        "Exercício 1 Classifique os tipos de dados das seguintes variáveis:\n",
        "\n",
        "1.\tx = 5\n",
        "2.\tx = 5.0\n",
        "3.\tx = 5.5\n",
        "4.\tx = 'DNC'\n",
        "5.\tx = 1/2\n",
        "6.\tx = 0.5 * 2\n",
        "7.\tx = 2 ** 4\n",
        "8.\tx = 2+4\n",
        "9.\tx = 1000000000\n",
        "10. Peça para o usuário inputar um dado inteiro e conﬁra o tipo dele\n",
        "11. Peça para o usuário inputar um dado ﬂoat e conﬁra o tipo dele\n",
        "12. Peça para o usuário inputar um dado string e conﬁra o tipo dele\n",
        "13. Peça para o usuário inputar um dado sem deﬁnir o tipo e conﬁra o tipo dele"
      ],
      "metadata": {
        "id": "6nwZydeVycgS"
      }
    },
    {
      "cell_type": "code",
      "execution_count": null,
      "metadata": {
        "colab": {
          "base_uri": "https://localhost:8080/"
        },
        "id": "MbYJ0-wLyEWD",
        "outputId": "70eafd0b-5c9f-46ad-d0c4-f4aeb5ea7c04"
      },
      "outputs": [
        {
          "output_type": "stream",
          "name": "stdout",
          "text": [
            "A variável 5 é do tipo <class 'int'>\n",
            "A variável 5.0 é do tipo <class 'float'>\n",
            "A variável 5.5 é do tipo <class 'float'>\n",
            "A variável DNC é do tipo <class 'str'>\n",
            "A variável 0.5 é do tipo <class 'float'>\n",
            "A variável 1.0 é do tipo <class 'float'>\n",
            "A variável 16 é do tipo <class 'int'>\n",
            "A variável 6 é do tipo <class 'int'>\n",
            "A variável 1000000000 é do tipo <class 'int'>\n",
            "Digite um número inteiro: 2\n",
            "A variável 2 é do tipo <class 'int'>\n",
            "Digite um número racional: 2.5\n",
            "A variável 2.5 é do tipo <class 'float'>\n",
            "Digite uma letra ou palavra: abc\n",
            "A variável abc é do tipo <class 'str'>\n",
            "Digite alguma coisa: 12jlkj\n",
            "A variável 12jlkj é do tipo <class 'str'>\n"
          ]
        }
      ],
      "source": [
        "#1\n",
        "x=5\n",
        "print('A variável {} é do tipo {}'. format(x,type(x)))\n",
        "#2\n",
        "x = 5.0\n",
        "\n",
        "print('A variável {} é do tipo {}'. format(x,type(x)))\n",
        "#3\n",
        "x = 5.5\n",
        "\n",
        "print('A variável {} é do tipo {}'. format(x,type(x)))\n",
        "#4\n",
        "x = 'DNC'\n",
        "\n",
        "print('A variável {} é do tipo {}'. format(x,type(x)))\n",
        "#5\n",
        "x = 1/2\n",
        "\n",
        "print('A variável {} é do tipo {}'. format(x,type(x)))\n",
        "#6\n",
        "x = 0.5 * 2\n",
        "\n",
        "print('A variável {} é do tipo {}'. format(x,type(x)))\n",
        "#7\n",
        "x = 2 ** 4\n",
        "\n",
        "print('A variável {} é do tipo {}'. format(x,type(x)))\n",
        "#8\n",
        "x = 2+4\n",
        "\n",
        "print('A variável {} é do tipo {}'. format(x,type(x)))\n",
        "#9\n",
        "x = 1000000000\n",
        "print('A variável {} é do tipo {}'. format(x,type(x)))\n",
        "\n",
        "#10. Peça para o usuário inputar um dado inteiro e conﬁra o tipo dele\n",
        "x = (int(input(\"Digite um número inteiro: \")))\n",
        "print('A variável {} é do tipo {}'. format(x,type(x)))\n",
        "\n",
        "#11. Peça para o usuário inputar um dado ﬂoat e conﬁra o tipo dele\n",
        "x = (float(input('Digite um número racional: ')))\n",
        "print('A variável {} é do tipo {}'. format(x,type(x)))\n",
        "\n",
        "#12. Peça para o usuário inputar um dado string e conﬁra o tipo dele\n",
        "x = (str(input('Digite uma letra ou palavra: ')))\n",
        "print('A variável {} é do tipo {}'. format(x,type(x)))\n",
        "\n",
        "#13. Peça para o usuário inputar um dado sem deﬁnir o tipo e conﬁra o tipo dele\n",
        "x = (input('Digite alguma coisa: '))\n",
        "print('A variável {} é do tipo {}'. format(x,type(x)))\n"
      ]
    },
    {
      "cell_type": "markdown",
      "source": [
        "Questão 2: \n",
        "\n",
        "Faça um print com duas linhas tracejadas acima e duas abaixo com  50 linhas em cada uma delas e no meio coloque \"DS06 - DNC\""
      ],
      "metadata": {
        "id": "KYxQLSLe2qIZ"
      }
    },
    {
      "cell_type": "code",
      "source": [
        "print(\"-\"*50)\n",
        "print(\"-\"*50)\n",
        "print(' '*19,'DS06 - DNC')\n",
        "print('-'*50)\n",
        "print(\"-\"*50)"
      ],
      "metadata": {
        "colab": {
          "base_uri": "https://localhost:8080/"
        },
        "id": "0V81Sogf2zjx",
        "outputId": "e45176dd-8d93-4d45-c3ef-d25c9cc3e3a4"
      },
      "execution_count": null,
      "outputs": [
        {
          "output_type": "stream",
          "name": "stdout",
          "text": [
            "--------------------------------------------------\n",
            "--------------------------------------------------\n",
            "                    DS06 - DNC\n",
            "--------------------------------------------------\n",
            "--------------------------------------------------\n"
          ]
        }
      ]
    },
    {
      "cell_type": "markdown",
      "source": [
        "Questão 3. Você acabou de se formar na turma 05 de Formação em dados  e conseguiu um emprego de um cientista de dados jr. com um salário de  R$10.000,00 mensais. Você quer calcular quanto conseguirá guardar na  poupança ao ﬁnal do mês depois que pagar suas contas. Considere os  dados abaixo para fazer um print igual ao que está em anexo.\n",
        "\n",
        "salario_cientista_de_dados = 10000.00\n",
        "parcela_bmw = 2500.45\n",
        "parcela_apartamento = 3500.50\n",
        "veterinario_romeuzinho = 500.00\n",
        "luz = 100.80\n",
        "agua = 80.35\n",
        "condominio = 800.44\n",
        "gas = 150.65\n",
        "\n",
        "![Imagem1.jpg](data:image/jpeg;base64,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)"
      ],
      "metadata": {
        "id": "ri_edhsv24ST"
      }
    },
    {
      "cell_type": "code",
      "source": [
        "salario_cientista_de_dados = 10000.00\n",
        "parcela_bmw = 2500.45\n",
        "parcela_apartamento = 3500.50\n",
        "veterinario_romeuzinho = 500.00 \n",
        "luz = 100.80 \n",
        "agua = 80.35 \n",
        "condominio = 800.44 \n",
        "gas = 150.65\n",
        "\n",
        "print(\"*\"*100)\n",
        "print('Seu Salário de cientista de dados jr é de {} e seus dados estão dispostos a seguir:'.format(salario_cientista_de_dados))\n",
        "print('Parcela da BMW: R$ {}'.format(parcela_bmw))\n",
        "print('Parcela do apartamento: R$ {}'.format(parcela_apartamento))\n",
        "print('Veterinário do Romeuzinho: R$ {}'.format(veterinario_romeuzinho))\n",
        "print('Conta de luz: R$ {}'.format(luz))\n",
        "print('Conta de água: R$ {}'.format(agua))\n",
        "print('Conta do condomínio: R$ {}'.format(condominio))\n",
        "print('Conta de gás: R$ {}'.format(gas))\n",
        "print(\"*\"*100)\n",
        "\n",
        "poupanca = salario_cientista_de_dados - (parcela_bmw+parcela_apartamento+veterinario_romeuzinho+luz+agua+condominio+gas)\n",
        "\n",
        "print('O valor disponível para colocar na poupança é de: R$ {:.2f}'.format(poupanca))"
      ],
      "metadata": {
        "colab": {
          "base_uri": "https://localhost:8080/"
        },
        "id": "466f4cIo3OpF",
        "outputId": "e86d49ca-7409-4303-ddb5-6f63d06c5d1b"
      },
      "execution_count": null,
      "outputs": [
        {
          "output_type": "stream",
          "name": "stdout",
          "text": [
            "****************************************************************************************************\n",
            "Seu Salário de cientista de dados jr é de 10000.0 e seus dados estão dispostos a seguir:\n",
            "Parcela da BMW: R$ 2500.45\n",
            "Parcela do apartamento: R$ 3500.5\n",
            "Veterinário do Romeuzinho: R$ 500.0\n",
            "Conta de luz: R$ 100.8\n",
            "Conta de água: R$ 80.35\n",
            "Conta do condomínio: R$ 800.44\n",
            "Conta de gás: R$ 150.65\n",
            "****************************************************************************************************\n",
            "O valor disponível para colocar na poupança é de: R$ 2366.81\n"
          ]
        }
      ]
    },
    {
      "cell_type": "markdown",
      "source": [
        "Questão 4:\n",
        "\n",
        "Você é um vendedor de cursos na DNC e os clientes entram em contato com  você para adquirir um de nossos seguintes cursos (Com os respectivos valores) e o  cliente pode escolher apenas 1:\n",
        "\n",
        "Formação_em_dados = 20000.00\n",
        "\n",
        "Formação_em_projetos = 15000.00\n",
        "\n",
        "Formação_em_marketing = 13000.00\n",
        "\n",
        "Formação_em_produto = 18000.00\n",
        "\n",
        "Formação_em_tecnologia = 19000.00\n",
        "\n",
        "Monte um código onde a primeira pergunta será \n",
        "\"Qual curso você quer escolher (1 =  Formação_em_dados, 2 = Formação_em_projetos, 3 = Formação_em_marketing, 4=  Formação_em_produto, 5 = Formação_em_tecnologia)?\"\n",
        "\n",
        "E de acordo com a escolha, ele entre em um if e emita a seguinte mensagem padrão  \n",
        "\"Você escolheu o curso Formação em XXXXX no valor de R$ valor que começará no  próximo mês\".\n",
        "\n",
        "Caso o usuário digite um valor diferente dos dispostos, emita a seguinte mensagem  \n",
        "\n",
        "\"Digite um valor correspondente a um curso de nossas formações \\n1-Formação em  dados \\n2-Formação em projetos\\n3-Formação em marketing\\n4-Formação em  produto\\n5-Formação em tecnologia\""
      ],
      "metadata": {
        "id": "eWJ7nOwV3Zlm"
      }
    },
    {
      "cell_type": "code",
      "source": [
        "formacao_em_dados = 20000.00\n",
        "formacao_em_projetos = 15000.00\n",
        "formacao_em_marketing = 13000.00\n",
        "formacao_em_produto = 18000.00\n",
        "formacao_em_tecnologia = 19000.00\n",
        "\n",
        "print('Digite 1 para Formação em Dados\\nDigite 2 para Formação em Projetos\\nDigite 3 para Formação em Marketing\\nDigite 4 para Formação em Produto\\nDigite 5 para Formação em Tecnologia')\n",
        "cursoCodigo = int(input('Qual curso você quer escolher? '))\n",
        "\n",
        "if cursoCodigo == 1:\n",
        "  print('Você escolheu a Formação em Dados, no valor de R$ {}, que começará no próximo mês'.format(formacao_em_dados))\n",
        "elif cursoCodigo == 2:\n",
        "  print('Você escolheu a Formação em Projetos, no valor de R$ {}, que começará no próximo mês'.format(formacao_em_projetos))\n",
        "elif cursoCodigo == 3:\n",
        "  print('Você escolheu a Formação em Marketing, no valor de R$ {}, que começará no próximo mês'.format(formacao_em_marketing))\n",
        "elif cursoCodigo == 4:\n",
        "  print('Você escolheu a Formação em Produto, no valor de R$ {}, que começará no próximo mês'.format(formacao_em_produto))\n",
        "elif cursoCodigo == 5:\n",
        "  print('Você escolheu a Formação em Tecnologia, no valor de R$ {}, que começará no próximo mês'.format(formacao_em_tecnologia))\n",
        "else:\n",
        "  print('Opção inválida. Digite um valor correspondente a um curso de nossas formações \\n1-Formação em dados \\n2-Formação em projetos\\n3-Formação em marketing\\n4-Formação em produto\\n5-Formação em tecnologia')\n"
      ],
      "metadata": {
        "colab": {
          "base_uri": "https://localhost:8080/"
        },
        "id": "fhObOtVj3qwo",
        "outputId": "8b83d168-0aa6-40be-ab95-0a2ba62da67b"
      },
      "execution_count": null,
      "outputs": [
        {
          "output_type": "stream",
          "name": "stdout",
          "text": [
            "Digite 1 para Formação em Dados\n",
            "Digite 2 para Formação em Projetos\n",
            "Digite 3 para Formação em Marketing\n",
            "Digite 4 para Formação em Produto\n",
            "Digite 5 para Formação em Tecnologia\n",
            "Qual curso você quer escolher? 2\n",
            "Você escolheu a Formação em Projetos, no valor de R$ 15000.0, que começará no próximo mês\n"
          ]
        }
      ]
    },
    {
      "cell_type": "markdown",
      "source": [
        "Questão 5.\n",
        "\n",
        "A DNC pretende faturar 2 milhões em 1 mês. Faça a leitura da quantidade de vendas de cada formação e calcule a receita total de vendas, a receita media geral e verifique se eles bateram a meta mensal utilizando as seguintes mensagens\n",
        "Se bateram: \"Parabéns!!! A DNC bateu a meta do mês\"\n",
        "Se não bateram: \"Esse mês não batemos a meta, porém mês que vem vamos vir mais forte pra recuperar!!!\"\n",
        "\n",
        "\n",
        "(Utilize as informações de preço do exercício acima)"
      ],
      "metadata": {
        "id": "S9cGjI9k3rlC"
      }
    },
    {
      "cell_type": "code",
      "source": [
        "formacao_em_dados = 20000.00\n",
        "formacao_em_projetos = 15000.00\n",
        "formacao_em_marketing = 13000.00\n",
        "formacao_em_produto = 18000.00\n",
        "formacao_em_tecnologia = 19000.00\n",
        "\n",
        "dadosQtde = int(input('Quantas formações em Dados foram vendidas? '))\n",
        "projetosQtde = int(input('Quantas formações em Projeto foram vendidas? '))\n",
        "mktQtde = int(input('Quantas formações em Marketing foram vendidas? '))\n",
        "produtoQtde = int(input('Quantas formações em Produto foram vendidas? '))\n",
        "techQtde = int(input('Quantas formações em Tecnologia foram vendidas? '))\n",
        "\n",
        "faturamento = formacao_em_dados*dadosQtde + formacao_em_projetos*projetosQtde + formacao_em_marketing*mktQtde + formacao_em_produto*produtoQtde + formacao_em_tecnologia*techQtde\n",
        "receitaMedia = faturamento / 5\n",
        "\n",
        "print(\"=\"*100)\n",
        "\n",
        "print('A receita média por curso foi de R$ {:.2f}, \\n1e a receita total foi de R$ {:.2f}.'.format(receitaMedia,faturamento))\n",
        "\n",
        "if faturamento >= 2000000:\n",
        "\n",
        "  print('Parabéns! A DNC bateu a meta do mês!')\n",
        "else:\n",
        "  print('Esse mês não batemos a meta, porém mês que vem vamos vir mais forte pra recuperar!!!'.format(faturamento))"
      ],
      "metadata": {
        "colab": {
          "base_uri": "https://localhost:8080/"
        },
        "id": "FX8vltfU3zle",
        "outputId": "2e4151fd-f737-40dd-88f8-70a34869a191"
      },
      "execution_count": null,
      "outputs": [
        {
          "output_type": "stream",
          "name": "stdout",
          "text": [
            "Quantas formações em Dados foram vendidas? 100\n",
            "Quantas formações em Projeto foram vendidas? 20\n",
            "Quantas formações em Marketing foram vendidas? 100\n",
            "Quantas formações em Produto foram vendidas? 200\n",
            "Quantas formações em Tecnologia foram vendidas? 100\n",
            "====================================================================================================\n",
            "A receita média por curso foi de R$ 1820000.00, \n",
            "e a receita total foi de R$ 9100000.00.\n",
            "Parabéns! A DNC bateu a meta do mês!\n"
          ]
        }
      ]
    },
    {
      "cell_type": "markdown",
      "source": [
        "Questão 6.\n",
        "\n",
        "O aluno da DNC precisa fazer um código que faça a somatória de uma  sequência de números um por um, informando no começo do código qual a posição a somatória  deve parar. Monte uma estrutura de repetição que resolva esse problema. Exemplo: Ele vai parar no numero 3, então vai somar 1+2+3"
      ],
      "metadata": {
        "id": "36mlDuqA30M9"
      }
    },
    {
      "cell_type": "code",
      "source": [
        "soma = 0"
      ],
      "metadata": {
        "id": "PDe8bSRd4fFK"
      },
      "execution_count": null,
      "outputs": []
    },
    {
      "cell_type": "markdown",
      "source": [
        "Questão 7.\n",
        "\n",
        "O aluno da DNC está no spotify e percebeu que poderia criar um código  para demonstrar como o spotify troca de música. Faça uma estrutura de repetição que  quando digita-se 'p' o código emitirá uma mensagem \"Próxima música\" e qualquer  outra letra ou número o código emitirá uma mensagem \"Fechando o app\" \"Até a  próxima\""
      ],
      "metadata": {
        "id": "iK5CWjzn4fyU"
      }
    },
    {
      "cell_type": "code",
      "source": [],
      "metadata": {
        "id": "KLAZJZMk4j-i"
      },
      "execution_count": null,
      "outputs": []
    },
    {
      "cell_type": "markdown",
      "source": [
        "Questão 8.\n",
        "\n",
        "O aluno da DNC quer criar um código para dar parabéns para 3 pessoas do  seu grupo de projeto, como reconhecimento de seu trabalho duro. Faça uma estrutura  de repetição onde seja informado 3 nomes e printado a seguinte mensagem \"Parabéns  por toda sua ajuda no projeto, você está sendo essencial para o resultado que estamos  atingindo, NOME DA PESSOA\""
      ],
      "metadata": {
        "id": "f7mjVwzj4klk"
      }
    },
    {
      "cell_type": "code",
      "source": [],
      "metadata": {
        "id": "SwlaCzdZ4oho"
      },
      "execution_count": null,
      "outputs": []
    },
    {
      "cell_type": "markdown",
      "source": [
        "Questão 9. \n",
        "\n",
        "Um aluno da DNC tem uma certa quantidade de notas em seu cofrinho e  hoje ele decidiu quebrá-lo, com isso ele quer criar um programa que armazene todas as  notas e ao ﬁnal do processo ele quer saber o valor total e printar as notas que ele  possui na tela. Monte uma estrutura onde seja guardado os valores das notas e imprima  a soma delas ao ﬁnal. Utilize a estrutura de repetição while"
      ],
      "metadata": {
        "id": "tvwwMiqT4pF_"
      }
    },
    {
      "cell_type": "code",
      "source": [
        "dinheiro = soma_notas(5,5,10)"
      ],
      "metadata": {
        "id": "QeOmdhBw4srQ"
      },
      "execution_count": null,
      "outputs": []
    },
    {
      "cell_type": "markdown",
      "source": [
        "Questão 10. \n",
        "\n",
        "O aluno da DNC resolveu criar um dicionário com as informações dos 5  membros de seu grupo, ele precisa inserir o Nome, RID, Idade, Cidade e Cargo no time  de projeto. Crie um dicionário que satisfaça isso e print cada chave e valor de cada  integrante."
      ],
      "metadata": {
        "id": "_74RshCq4tTb"
      }
    },
    {
      "cell_type": "code",
      "source": [],
      "metadata": {
        "id": "lNYDX3vj4wls"
      },
      "execution_count": null,
      "outputs": []
    },
    {
      "cell_type": "markdown",
      "source": [
        "Questão 11. \n",
        "\n",
        "Crie uma função, em que sempre ao ser chamada faz a soma de todas as  notas (dinheiro) que você inserir na função."
      ],
      "metadata": {
        "id": "HUfkCrSv4w-9"
      }
    },
    {
      "cell_type": "code",
      "source": [],
      "metadata": {
        "id": "JnTPhpsz40Ty"
      },
      "execution_count": null,
      "outputs": []
    }
  ]
}